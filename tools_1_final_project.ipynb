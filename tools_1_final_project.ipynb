{
 "cells": [
  {
   "cell_type": "markdown",
   "id": "ffa8954a",
   "metadata": {},
   "source": [
    "#  Final Project -  Analyze the odds of approval based on various factors like income, credit history, etc. of a borrower applying for a loan\n",
    "\n",
    "\n",
    "The purpose this project is to understand, based on given factors if it is possible to autoamte the process of a loan approval. I am using loan dataset obtained from kaggle.com. It has varous factors like education, gender, credit history that affects the odds of loan appproval.\n",
    "\n",
    "* Author(s): [Mehfuz Hossain](mehfuz.hossain@du.edu)\n",
    "\n",
    "* Github: [Tools 1 Final Project](https://github.com/duproject2020/du-tools1-final-project)"
   ]
  },
  {
   "cell_type": "code",
   "execution_count": 2,
   "id": "445ed3e0",
   "metadata": {},
   "outputs": [],
   "source": [
    "import pandas as pd\n",
    "import numpy as np\n",
    "import matplotlib.pyplot as plt\n",
    "import seaborn as sns"
   ]
  },
  {
   "cell_type": "markdown",
   "id": "81a67451",
   "metadata": {},
   "source": [
    "## Data Processing"
   ]
  },
  {
   "cell_type": "code",
   "execution_count": 3,
   "id": "4e7ff836",
   "metadata": {},
   "outputs": [
    {
     "data": {
      "text/html": [
       "<div>\n",
       "<style scoped>\n",
       "    .dataframe tbody tr th:only-of-type {\n",
       "        vertical-align: middle;\n",
       "    }\n",
       "\n",
       "    .dataframe tbody tr th {\n",
       "        vertical-align: top;\n",
       "    }\n",
       "\n",
       "    .dataframe thead th {\n",
       "        text-align: right;\n",
       "    }\n",
       "</style>\n",
       "<table border=\"1\" class=\"dataframe\">\n",
       "  <thead>\n",
       "    <tr style=\"text-align: right;\">\n",
       "      <th></th>\n",
       "      <th>Loan_ID</th>\n",
       "      <th>Gender</th>\n",
       "      <th>Married</th>\n",
       "      <th>Dependents</th>\n",
       "      <th>Education</th>\n",
       "      <th>Self_Employed</th>\n",
       "      <th>ApplicantIncome</th>\n",
       "      <th>CoapplicantIncome</th>\n",
       "      <th>LoanAmount</th>\n",
       "      <th>Loan_Amount_Term</th>\n",
       "      <th>Credit_History</th>\n",
       "      <th>Property_Area</th>\n",
       "      <th>Loan_Status</th>\n",
       "    </tr>\n",
       "  </thead>\n",
       "  <tbody>\n",
       "    <tr>\n",
       "      <th>0</th>\n",
       "      <td>LP001002</td>\n",
       "      <td>Male</td>\n",
       "      <td>No</td>\n",
       "      <td>0</td>\n",
       "      <td>Graduate</td>\n",
       "      <td>No</td>\n",
       "      <td>5849</td>\n",
       "      <td>0.0</td>\n",
       "      <td>NaN</td>\n",
       "      <td>360.0</td>\n",
       "      <td>1.0</td>\n",
       "      <td>Urban</td>\n",
       "      <td>Y</td>\n",
       "    </tr>\n",
       "    <tr>\n",
       "      <th>1</th>\n",
       "      <td>LP001003</td>\n",
       "      <td>Male</td>\n",
       "      <td>Yes</td>\n",
       "      <td>1</td>\n",
       "      <td>Graduate</td>\n",
       "      <td>No</td>\n",
       "      <td>4583</td>\n",
       "      <td>1508.0</td>\n",
       "      <td>128.0</td>\n",
       "      <td>360.0</td>\n",
       "      <td>1.0</td>\n",
       "      <td>Rural</td>\n",
       "      <td>N</td>\n",
       "    </tr>\n",
       "    <tr>\n",
       "      <th>2</th>\n",
       "      <td>LP001005</td>\n",
       "      <td>Male</td>\n",
       "      <td>Yes</td>\n",
       "      <td>0</td>\n",
       "      <td>Graduate</td>\n",
       "      <td>Yes</td>\n",
       "      <td>3000</td>\n",
       "      <td>0.0</td>\n",
       "      <td>66.0</td>\n",
       "      <td>360.0</td>\n",
       "      <td>1.0</td>\n",
       "      <td>Urban</td>\n",
       "      <td>Y</td>\n",
       "    </tr>\n",
       "    <tr>\n",
       "      <th>3</th>\n",
       "      <td>LP001006</td>\n",
       "      <td>Male</td>\n",
       "      <td>Yes</td>\n",
       "      <td>0</td>\n",
       "      <td>Not Graduate</td>\n",
       "      <td>No</td>\n",
       "      <td>2583</td>\n",
       "      <td>2358.0</td>\n",
       "      <td>120.0</td>\n",
       "      <td>360.0</td>\n",
       "      <td>1.0</td>\n",
       "      <td>Urban</td>\n",
       "      <td>Y</td>\n",
       "    </tr>\n",
       "    <tr>\n",
       "      <th>4</th>\n",
       "      <td>LP001008</td>\n",
       "      <td>Male</td>\n",
       "      <td>No</td>\n",
       "      <td>0</td>\n",
       "      <td>Graduate</td>\n",
       "      <td>No</td>\n",
       "      <td>6000</td>\n",
       "      <td>0.0</td>\n",
       "      <td>141.0</td>\n",
       "      <td>360.0</td>\n",
       "      <td>1.0</td>\n",
       "      <td>Urban</td>\n",
       "      <td>Y</td>\n",
       "    </tr>\n",
       "  </tbody>\n",
       "</table>\n",
       "</div>"
      ],
      "text/plain": [
       "    Loan_ID Gender Married Dependents     Education Self_Employed  \\\n",
       "0  LP001002   Male      No          0      Graduate            No   \n",
       "1  LP001003   Male     Yes          1      Graduate            No   \n",
       "2  LP001005   Male     Yes          0      Graduate           Yes   \n",
       "3  LP001006   Male     Yes          0  Not Graduate            No   \n",
       "4  LP001008   Male      No          0      Graduate            No   \n",
       "\n",
       "   ApplicantIncome  CoapplicantIncome  LoanAmount  Loan_Amount_Term  \\\n",
       "0             5849                0.0         NaN             360.0   \n",
       "1             4583             1508.0       128.0             360.0   \n",
       "2             3000                0.0        66.0             360.0   \n",
       "3             2583             2358.0       120.0             360.0   \n",
       "4             6000                0.0       141.0             360.0   \n",
       "\n",
       "   Credit_History Property_Area Loan_Status  \n",
       "0             1.0         Urban           Y  \n",
       "1             1.0         Rural           N  \n",
       "2             1.0         Urban           Y  \n",
       "3             1.0         Urban           Y  \n",
       "4             1.0         Urban           Y  "
      ]
     },
     "execution_count": 3,
     "metadata": {},
     "output_type": "execute_result"
    }
   ],
   "source": [
    "loan_data = 'loan_data.csv'\n",
    "\n",
    "df = pd.read_csv(loan_data)\n",
    "\n",
    "df.head()"
   ]
  },
  {
   "cell_type": "code",
   "execution_count": 4,
   "id": "826fb160",
   "metadata": {},
   "outputs": [
    {
     "data": {
      "text/plain": [
       "(614, 13)"
      ]
     },
     "execution_count": 4,
     "metadata": {},
     "output_type": "execute_result"
    }
   ],
   "source": [
    "df.shape"
   ]
  },
  {
   "cell_type": "markdown",
   "id": "96bc5a32",
   "metadata": {},
   "source": [
    "We have 614 rows and 13 columns in the dataset"
   ]
  },
  {
   "cell_type": "code",
   "execution_count": 5,
   "id": "69b4e2fd",
   "metadata": {},
   "outputs": [
    {
     "data": {
      "text/plain": [
       "Loan_ID               object\n",
       "Gender                object\n",
       "Married               object\n",
       "Dependents            object\n",
       "Education             object\n",
       "Self_Employed         object\n",
       "ApplicantIncome        int64\n",
       "CoapplicantIncome    float64\n",
       "LoanAmount           float64\n",
       "Loan_Amount_Term     float64\n",
       "Credit_History       float64\n",
       "Property_Area         object\n",
       "Loan_Status           object\n",
       "dtype: object"
      ]
     },
     "execution_count": 5,
     "metadata": {},
     "output_type": "execute_result"
    }
   ],
   "source": [
    "df.dtypes"
   ]
  },
  {
   "cell_type": "markdown",
   "id": "df651eab",
   "metadata": {},
   "source": [
    "Here , we are interested in `Loan_Status` where 'Y' means approved and 'N' means rejected. \n",
    "\n",
    "Independent variables that can affect the `Loan_Status`:\n",
    "\n",
    "* Gender\n",
    "* Married\n",
    "* Dependents\n",
    "* Education\n",
    "* Self_Employed\n",
    "* Property_Area\n",
    "\n"
   ]
  },
  {
   "cell_type": "code",
   "execution_count": 6,
   "id": "cc5feb99",
   "metadata": {},
   "outputs": [
    {
     "data": {
      "text/plain": [
       "Loan_ID               0\n",
       "Gender               13\n",
       "Married               3\n",
       "Dependents           15\n",
       "Education             0\n",
       "Self_Employed        32\n",
       "ApplicantIncome       0\n",
       "CoapplicantIncome     0\n",
       "LoanAmount           22\n",
       "Loan_Amount_Term     14\n",
       "Credit_History       50\n",
       "Property_Area         0\n",
       "Loan_Status           0\n",
       "dtype: int64"
      ]
     },
     "execution_count": 6,
     "metadata": {},
     "output_type": "execute_result"
    }
   ],
   "source": [
    "df.isna().sum()"
   ]
  },
  {
   "cell_type": "markdown",
   "id": "15b2801f",
   "metadata": {},
   "source": [
    "There are null value columns which can cause problem to the loan approval prediction, we want to understand if any of these applicants are approved for a loan"
   ]
  },
  {
   "cell_type": "code",
   "execution_count": 7,
   "id": "48b83223",
   "metadata": {},
   "outputs": [
    {
     "data": {
      "text/plain": [
       "Y    37\n",
       "N    13\n",
       "Name: Loan_Status, dtype: int64"
      ]
     },
     "execution_count": 7,
     "metadata": {},
     "output_type": "execute_result"
    }
   ],
   "source": [
    "missing_history = df[df['Credit_History'].isna()]\n",
    "missing_history['Loan_Status'].value_counts()"
   ]
  },
  {
   "cell_type": "markdown",
   "id": "57b55e3b",
   "metadata": {},
   "source": [
    "We do see some applicants approved without a credit history, this could be first time loan applicatnts or self-employed"
   ]
  },
  {
   "cell_type": "code",
   "execution_count": 8,
   "id": "24662403",
   "metadata": {},
   "outputs": [],
   "source": [
    "employed = df['Self_Employed'].value_counts().index[0]\n",
    "self_employed = df['Self_Employed'].value_counts().index[1]\n",
    "\n",
    "\n",
    "df.loc[(df['Self_Employed'] == self_employed) & (df['Credit_History'].isna()), 'Credit_History'] = 0.0\n",
    "df.loc[(df['Self_Employed'] == employed) & (df['Credit_History'].isna()), 'Credit_History'] = 1.0\n",
    "\n",
    "df.loc[(df['Credit_History'].isnull()) & (df['Loan_Status'] == 'Y'), 'Credit_History'] = 1.0\n",
    "\n",
    "df['Credit_History'].fillna(0.0, inplace=True)"
   ]
  },
  {
   "cell_type": "markdown",
   "id": "3671f6e6",
   "metadata": {},
   "source": [
    "I have set the credit history to 0.0 for self-employed. For application who have a missing status for `self-employed`, I've used `loan_status` to determine if the person has a credit history, otherwise set 0.0 for all missing credit history"
   ]
  },
  {
   "cell_type": "code",
   "execution_count": 9,
   "id": "aa0d9e02",
   "metadata": {},
   "outputs": [],
   "source": [
    "df.loc[(df['Self_Employed'].isnull()) & (df['Credit_History'] > 0.0), \"Self_Employed\"] = df['Self_Employed'].value_counts().index[0]\n",
    "df.loc[(df['Self_Employed'].isnull()) & (df['Credit_History'] == 0.0), \"Self_Employed\"] = df['Self_Employed'].value_counts().index[1]"
   ]
  },
  {
   "cell_type": "markdown",
   "id": "8425b1ff",
   "metadata": {},
   "source": [
    "I've also set `Self-Employed` based on `Credit_History`. The borrowers who do not have a credit history are likely to be self-employed"
   ]
  },
  {
   "cell_type": "code",
   "execution_count": 10,
   "id": "dc3ce3cb",
   "metadata": {},
   "outputs": [],
   "source": [
    "df.loc[(df['Married'].isnull()) & (df['CoapplicantIncome'] > 0.0), \"Married\"] = df['Married'].value_counts().index[0]\n",
    "df.loc[(df['Married'].isnull()) & (df['CoapplicantIncome'] == 0.0), \"Married\"] = df['Married'].value_counts().index[1]\n"
   ]
  },
  {
   "cell_type": "markdown",
   "id": "efe20ce0",
   "metadata": {},
   "source": [
    "Missing values for `Married` column, we are setting \"yes\" for entries with co-applicant income, otherwise \"No\" "
   ]
  },
  {
   "cell_type": "code",
   "execution_count": 11,
   "id": "4e7eb152",
   "metadata": {},
   "outputs": [],
   "source": [
    "married = df['Married'].value_counts().index[0]\n",
    "\n",
    "male = df['Gender'].value_counts().index[0]\n",
    "female = df['Gender'].value_counts().index[1]\n",
    "\n",
    "df.loc[(df['Gender'].isnull()) & (df['Married'] == married) & (df['ApplicantIncome'] > df['CoapplicantIncome']), 'Gender'] = male\n",
    "df.loc[(df['Gender'].isnull()) & (df['Married'] == married) & (df['ApplicantIncome'] < df['CoapplicantIncome']), 'Gender'] = male\n",
    "\n",
    "df['Gender'].fillna(female, inplace=True)"
   ]
  },
  {
   "cell_type": "markdown",
   "id": "380c39d1",
   "metadata": {},
   "source": [
    "For married couples, I am assuming gender is male for higher income applicant or coapplicant (we are applying bias based on norm)\n",
    "\n",
    "I am setting `Female` for the rest of the missing values"
   ]
  },
  {
   "cell_type": "code",
   "execution_count": 12,
   "id": "56ea866a",
   "metadata": {},
   "outputs": [],
   "source": [
    "df['Dependents'].fillna(df['Dependents'].value_counts().index[0], inplace=True)\n"
   ]
  },
  {
   "cell_type": "markdown",
   "id": "f56a7eb3",
   "metadata": {},
   "source": [
    "I am assuming for missing values, there are no dependents for the applicant."
   ]
  },
  {
   "cell_type": "code",
   "execution_count": 13,
   "id": "fa0eb407",
   "metadata": {},
   "outputs": [],
   "source": [
    "df.loc[(df['LoanAmount'].isna()) & (df['Loan_Status'] == 'N'), 'LoanAmount'] = 0.0 \n",
    "#rest\n",
    "df['LoanAmount'].fillna( df['LoanAmount'].median(), inplace=True)"
   ]
  },
  {
   "cell_type": "markdown",
   "id": "76d1da39",
   "metadata": {},
   "source": [
    "I have set the loan amount to zero for applicants whose loan is not approved, otherwise I've set the loan amount with median value."
   ]
  },
  {
   "cell_type": "code",
   "execution_count": 14,
   "id": "e5c2a494",
   "metadata": {},
   "outputs": [],
   "source": [
    "df['Loan_Amount_Term'].fillna(df['Loan_Amount_Term'].median(), inplace=True)"
   ]
  },
  {
   "cell_type": "markdown",
   "id": "e6d94c21",
   "metadata": {},
   "source": [
    "I am also setting the missing loan amount term based on the median value."
   ]
  },
  {
   "cell_type": "code",
   "execution_count": 15,
   "id": "f3ee912e",
   "metadata": {},
   "outputs": [
    {
     "data": {
      "text/plain": [
       "Loan_ID              0\n",
       "Gender               0\n",
       "Married              0\n",
       "Dependents           0\n",
       "Education            0\n",
       "Self_Employed        0\n",
       "ApplicantIncome      0\n",
       "CoapplicantIncome    0\n",
       "LoanAmount           0\n",
       "Loan_Amount_Term     0\n",
       "Credit_History       0\n",
       "Property_Area        0\n",
       "Loan_Status          0\n",
       "dtype: int64"
      ]
     },
     "execution_count": 15,
     "metadata": {},
     "output_type": "execute_result"
    }
   ],
   "source": [
    "df.isna().sum()"
   ]
  },
  {
   "cell_type": "markdown",
   "id": "100fa37d",
   "metadata": {},
   "source": [
    "Finally, I am verifying that data is clean and predictors do not have any null / missing values\n"
   ]
  },
  {
   "cell_type": "code",
   "execution_count": 16,
   "id": "1c738d41",
   "metadata": {},
   "outputs": [],
   "source": [
    "dst_filename = \"loan_data.pkl\"\n",
    "pd.to_pickle(df, dst_filename)\n"
   ]
  },
  {
   "cell_type": "markdown",
   "id": "d6ee7aad",
   "metadata": {},
   "source": [
    "Saving the clean dataset to a pickle file for future processing"
   ]
  },
  {
   "cell_type": "markdown",
   "id": "8f15e16b",
   "metadata": {},
   "source": [
    "## Data Analysis (EDA)"
   ]
  },
  {
   "cell_type": "code",
   "execution_count": 17,
   "id": "a0489849",
   "metadata": {},
   "outputs": [],
   "source": [
    "# Loading the data\n",
    "dst_filename = \"loan_data.pkl\"\n",
    "loan_clean_df = pd.read_pickle(dst_filename)\n"
   ]
  },
  {
   "cell_type": "code",
   "execution_count": 18,
   "id": "a75496e4",
   "metadata": {},
   "outputs": [
    {
     "data": {
      "text/plain": [
       "Y    0.687296\n",
       "N    0.312704\n",
       "Name: Loan_Status, dtype: float64"
      ]
     },
     "execution_count": 18,
     "metadata": {},
     "output_type": "execute_result"
    }
   ],
   "source": [
    "loan_clean_df['Loan_Status'].value_counts(normalize=True, dropna=False)"
   ]
  },
  {
   "cell_type": "markdown",
   "id": "9ef42aa4",
   "metadata": {},
   "source": [
    "Based on above data, around 68% of the applicants are approved for a loan"
   ]
  },
  {
   "cell_type": "code",
   "execution_count": 19,
   "id": "25006eb1",
   "metadata": {},
   "outputs": [
    {
     "data": {
      "image/png": "[encoded data removed]",
      "text/plain": [
       "<Figure size 1008x720 with 9 Axes>"
      ]
     },
     "metadata": {
      "needs_background": "light"
     },
     "output_type": "display_data"
    }
   ],
   "source": [
    "import math\n",
    "\n",
    "categories = []\n",
    "\n",
    "for col in loan_clean_df.columns:\n",
    "    if loan_clean_df[col].dtype == 'object':\n",
    "        categories.append(col)\n",
    "        \n",
    "# loan_id\n",
    "categories.pop(0)\n",
    "# loan_status\n",
    "categories.pop(-1)\n",
    "# include credit_history\n",
    "categories.append('Credit_History')\n",
    "\n",
    "cols = 3\n",
    "rows = math.ceil(len(categories) / cols)\n",
    "\n",
    "fig, axs = plt.subplots(rows, cols, figsize = (14, 10))\n",
    "\n",
    "for i, ax in enumerate(axs.flat):\n",
    "    if i < len(categories):\n",
    "        sns.countplot(x='Loan_Status', hue=categories[i], data=loan_clean_df, ax=ax, palette='magma') \n",
    "        ax.set_title(categories[i])\n",
    "        ax.set(ylabel='count')\n",
    "\n",
    "               \n",
    "axs[2, 2].set_axis_off()\n",
    "axs[2, 1].set_axis_off()\n",
    "\n",
    "plt.tight_layout()\n",
    "\n",
    "plt.show()\n"
   ]
  },
  {
   "cell_type": "markdown",
   "id": "c82d3b47",
   "metadata": {},
   "source": [
    "After observating the categorial variables against `Loan_Status`, we can see the following patterns:\n",
    "\n",
    "* Married applicatants vs single have more influence on `Loan_Status`\n",
    "* Married and male appplicants have almost similar approval odds\n",
    "* Approval odds are higher in graduate borrowers\n",
    "* Self-employed applicants have lower approval rate\n",
    "* Applicants with no kids have much higher approval rate\n",
    "* Applicatiant's location or where he / she lives (`Property_Area`) is not very imporant when applying for a loan\n",
    "* Appearently people with no credit history have almost no chance of getting approved for a loan"
   ]
  },
  {
   "cell_type": "code",
   "execution_count": 20,
   "id": "b63c80ba",
   "metadata": {},
   "outputs": [
    {
     "data": {
      "image/png": "[encoded data removed]",
      "text/plain": [
       "<Figure size 432x288 with 2 Axes>"
      ]
     },
     "metadata": {
      "needs_background": "light"
     },
     "output_type": "display_data"
    }
   ],
   "source": [
    "sns.heatmap(loan_clean_df.corr(), annot=True, fmt='.2f')\n",
    "plt.show()"
   ]
  },
  {
   "cell_type": "markdown",
   "id": "9dba9523",
   "metadata": {},
   "source": [
    "Doing a correlation analysis of the numerical field, we see the following liner relationship:\n",
    "\n",
    "* `Loan_Amount`, `ApplcantIncome`\n",
    "* `Loan_Amount`, `CoapplicantIncome`\n",
    "\n",
    "\n",
    "Based on the above correlation, we can conclude that loan amount is higher for higher income borrowers. Therefore, if we consider married couples and combined income, the chances should be much higher\n"
   ]
  },
  {
   "cell_type": "markdown",
   "id": "f35e1b53",
   "metadata": {},
   "source": [
    "## Feature Engineering"
   ]
  },
  {
   "cell_type": "code",
   "execution_count": 21,
   "id": "b41cc38a",
   "metadata": {},
   "outputs": [
    {
     "data": {
      "text/html": [
       "<div>\n",
       "<style scoped>\n",
       "    .dataframe tbody tr th:only-of-type {\n",
       "        vertical-align: middle;\n",
       "    }\n",
       "\n",
       "    .dataframe tbody tr th {\n",
       "        vertical-align: top;\n",
       "    }\n",
       "\n",
       "    .dataframe thead th {\n",
       "        text-align: right;\n",
       "    }\n",
       "</style>\n",
       "<table border=\"1\" class=\"dataframe\">\n",
       "  <thead>\n",
       "    <tr style=\"text-align: right;\">\n",
       "      <th></th>\n",
       "      <th>Loan_ID</th>\n",
       "      <th>Gender</th>\n",
       "      <th>Married</th>\n",
       "      <th>Dependents</th>\n",
       "      <th>Education</th>\n",
       "      <th>Self_Employed</th>\n",
       "      <th>ApplicantIncome</th>\n",
       "      <th>CoapplicantIncome</th>\n",
       "      <th>LoanAmount</th>\n",
       "      <th>Loan_Amount_Term</th>\n",
       "      <th>Credit_History</th>\n",
       "      <th>Property_Area</th>\n",
       "      <th>Loan_Status</th>\n",
       "      <th>TotalIncome</th>\n",
       "    </tr>\n",
       "  </thead>\n",
       "  <tbody>\n",
       "    <tr>\n",
       "      <th>257</th>\n",
       "      <td>LP001854</td>\n",
       "      <td>Male</td>\n",
       "      <td>Yes</td>\n",
       "      <td>3+</td>\n",
       "      <td>Graduate</td>\n",
       "      <td>No</td>\n",
       "      <td>5250</td>\n",
       "      <td>0.0</td>\n",
       "      <td>94.0</td>\n",
       "      <td>360.0</td>\n",
       "      <td>1.0</td>\n",
       "      <td>Urban</td>\n",
       "      <td>N</td>\n",
       "      <td>5250.0</td>\n",
       "    </tr>\n",
       "  </tbody>\n",
       "</table>\n",
       "</div>"
      ],
      "text/plain": [
       "      Loan_ID Gender Married Dependents Education Self_Employed  \\\n",
       "257  LP001854   Male     Yes         3+  Graduate            No   \n",
       "\n",
       "     ApplicantIncome  CoapplicantIncome  LoanAmount  Loan_Amount_Term  \\\n",
       "257             5250                0.0        94.0             360.0   \n",
       "\n",
       "     Credit_History Property_Area Loan_Status  TotalIncome  \n",
       "257             1.0         Urban           N       5250.0  "
      ]
     },
     "execution_count": 21,
     "metadata": {},
     "output_type": "execute_result"
    }
   ],
   "source": [
    "loan_clean_df['TotalIncome']=  loan_clean_df['ApplicantIncome']+loan_clean_df['CoapplicantIncome']\n",
    "loan_clean_df.sample()\n"
   ]
  },
  {
   "cell_type": "markdown",
   "id": "bb0c8d02",
   "metadata": {},
   "source": [
    "Based on the observation there is a positive relationship between the loan approval rate and the income, therefore the rate will be even higher with combined income.\n"
   ]
  },
  {
   "cell_type": "code",
   "execution_count": 22,
   "id": "68791589",
   "metadata": {},
   "outputs": [
    {
     "data": {
      "text/plain": [
       "<seaborn.axisgrid.FacetGrid at 0x7fd5b3524190>"
      ]
     },
     "execution_count": 22,
     "metadata": {},
     "output_type": "execute_result"
    },
    {
     "data": {
      "image/png": "[encoded data removed]",
      "text/plain": [
       "<Figure size 360x360 with 1 Axes>"
      ]
     },
     "metadata": {
      "needs_background": "light"
     },
     "output_type": "display_data"
    }
   ],
   "source": [
    "sns.displot(x='TotalIncome', data=loan_clean_df)"
   ]
  },
  {
   "cell_type": "markdown",
   "id": "c63a2c13",
   "metadata": {},
   "source": [
    "The data is shifted towards left, therefore it is right-skewed."
   ]
  },
  {
   "cell_type": "code",
   "execution_count": 23,
   "id": "68da38cb",
   "metadata": {},
   "outputs": [
    {
     "data": {
      "text/plain": [
       "<seaborn.axisgrid.FacetGrid at 0x7fd5b375f640>"
      ]
     },
     "execution_count": 23,
     "metadata": {},
     "output_type": "execute_result"
    },
    {
     "data": {
      "image/png": "[encoded data removed]",
      "text/plain": [
       "<Figure size 360x360 with 1 Axes>"
      ]
     },
     "metadata": {
      "needs_background": "light"
     },
     "output_type": "display_data"
    }
   ],
   "source": [
    "sns.displot(np.log(loan_clean_df['TotalIncome']))"
   ]
  },
  {
   "cell_type": "markdown",
   "id": "9b23dd3d",
   "metadata": {},
   "source": [
    "Taking `np.log`, we can see that data is normally distributed and there are no major outliers that can affect our analysis"
   ]
  },
  {
   "cell_type": "code",
   "execution_count": 24,
   "id": "9b16e852",
   "metadata": {},
   "outputs": [
    {
     "data": {
      "text/plain": [
       "<AxesSubplot:>"
      ]
     },
     "execution_count": 24,
     "metadata": {},
     "output_type": "execute_result"
    },
    {
     "data": {
      "image/png": "[encoded data removed]",
      "text/plain": [
       "<Figure size 432x288 with 2 Axes>"
      ]
     },
     "metadata": {
      "needs_background": "light"
     },
     "output_type": "display_data"
    }
   ],
   "source": [
    "sns.heatmap(loan_clean_df.corr(), annot=True, fmt='.2f')"
   ]
  },
  {
   "cell_type": "markdown",
   "id": "3829db98",
   "metadata": {},
   "source": [
    "We can see from the heatmap that `TotalIncome` have most influence on `LoanAmount`.Now, based on `Loan_Amount_Term` and `LoanAmount` we can calculate the estimated monthy installment (EMI) of a borrower\n",
    "\n",
    "\n"
   ]
  },
  {
   "cell_type": "code",
   "execution_count": 25,
   "id": "18b8a93f",
   "metadata": {},
   "outputs": [
    {
     "data": {
      "text/html": [
       "<div>\n",
       "<style scoped>\n",
       "    .dataframe tbody tr th:only-of-type {\n",
       "        vertical-align: middle;\n",
       "    }\n",
       "\n",
       "    .dataframe tbody tr th {\n",
       "        vertical-align: top;\n",
       "    }\n",
       "\n",
       "    .dataframe thead th {\n",
       "        text-align: right;\n",
       "    }\n",
       "</style>\n",
       "<table border=\"1\" class=\"dataframe\">\n",
       "  <thead>\n",
       "    <tr style=\"text-align: right;\">\n",
       "      <th></th>\n",
       "      <th>Loan_ID</th>\n",
       "      <th>Gender</th>\n",
       "      <th>Married</th>\n",
       "      <th>Dependents</th>\n",
       "      <th>Education</th>\n",
       "      <th>Self_Employed</th>\n",
       "      <th>ApplicantIncome</th>\n",
       "      <th>CoapplicantIncome</th>\n",
       "      <th>LoanAmount</th>\n",
       "      <th>Loan_Amount_Term</th>\n",
       "      <th>Credit_History</th>\n",
       "      <th>Property_Area</th>\n",
       "      <th>Loan_Status</th>\n",
       "      <th>TotalIncome</th>\n",
       "      <th>EMI</th>\n",
       "    </tr>\n",
       "  </thead>\n",
       "  <tbody>\n",
       "    <tr>\n",
       "      <th>197</th>\n",
       "      <td>LP001669</td>\n",
       "      <td>Female</td>\n",
       "      <td>No</td>\n",
       "      <td>0</td>\n",
       "      <td>Not Graduate</td>\n",
       "      <td>No</td>\n",
       "      <td>1907</td>\n",
       "      <td>2365.0</td>\n",
       "      <td>120.0</td>\n",
       "      <td>360.0</td>\n",
       "      <td>1.0</td>\n",
       "      <td>Urban</td>\n",
       "      <td>Y</td>\n",
       "      <td>4272.0</td>\n",
       "      <td>0.333333</td>\n",
       "    </tr>\n",
       "  </tbody>\n",
       "</table>\n",
       "</div>"
      ],
      "text/plain": [
       "      Loan_ID  Gender Married Dependents     Education Self_Employed  \\\n",
       "197  LP001669  Female      No          0  Not Graduate            No   \n",
       "\n",
       "     ApplicantIncome  CoapplicantIncome  LoanAmount  Loan_Amount_Term  \\\n",
       "197             1907             2365.0       120.0             360.0   \n",
       "\n",
       "     Credit_History Property_Area Loan_Status  TotalIncome       EMI  \n",
       "197             1.0         Urban           Y       4272.0  0.333333  "
      ]
     },
     "execution_count": 25,
     "metadata": {},
     "output_type": "execute_result"
    }
   ],
   "source": [
    "loan_clean_df['EMI'] = (loan_clean_df['LoanAmount']) / (loan_clean_df['Loan_Amount_Term'])\n",
    "loan_clean_df[loan_clean_df.Loan_Status == 'Y'].sample()"
   ]
  },
  {
   "cell_type": "markdown",
   "id": "289945d3",
   "metadata": {},
   "source": [
    "Now, substracting EMI from total income, we get the balance avaialble. The borrower is likey to get approved as the amount is higher"
   ]
  },
  {
   "cell_type": "code",
   "execution_count": 26,
   "id": "10b50058",
   "metadata": {},
   "outputs": [
    {
     "data": {
      "text/html": [
       "<div>\n",
       "<style scoped>\n",
       "    .dataframe tbody tr th:only-of-type {\n",
       "        vertical-align: middle;\n",
       "    }\n",
       "\n",
       "    .dataframe tbody tr th {\n",
       "        vertical-align: top;\n",
       "    }\n",
       "\n",
       "    .dataframe thead th {\n",
       "        text-align: right;\n",
       "    }\n",
       "</style>\n",
       "<table border=\"1\" class=\"dataframe\">\n",
       "  <thead>\n",
       "    <tr style=\"text-align: right;\">\n",
       "      <th></th>\n",
       "      <th>Loan_ID</th>\n",
       "      <th>Gender</th>\n",
       "      <th>Married</th>\n",
       "      <th>Dependents</th>\n",
       "      <th>Education</th>\n",
       "      <th>Self_Employed</th>\n",
       "      <th>ApplicantIncome</th>\n",
       "      <th>CoapplicantIncome</th>\n",
       "      <th>LoanAmount</th>\n",
       "      <th>Loan_Amount_Term</th>\n",
       "      <th>Credit_History</th>\n",
       "      <th>Property_Area</th>\n",
       "      <th>Loan_Status</th>\n",
       "      <th>TotalIncome</th>\n",
       "      <th>EMI</th>\n",
       "      <th>Balance</th>\n",
       "    </tr>\n",
       "  </thead>\n",
       "  <tbody>\n",
       "    <tr>\n",
       "      <th>155</th>\n",
       "      <td>LP001536</td>\n",
       "      <td>Male</td>\n",
       "      <td>Yes</td>\n",
       "      <td>3+</td>\n",
       "      <td>Graduate</td>\n",
       "      <td>No</td>\n",
       "      <td>39999</td>\n",
       "      <td>0.0</td>\n",
       "      <td>600.0</td>\n",
       "      <td>180.0</td>\n",
       "      <td>0.0</td>\n",
       "      <td>Semiurban</td>\n",
       "      <td>Y</td>\n",
       "      <td>39999.0</td>\n",
       "      <td>3.333333</td>\n",
       "      <td>36665.666667</td>\n",
       "    </tr>\n",
       "  </tbody>\n",
       "</table>\n",
       "</div>"
      ],
      "text/plain": [
       "      Loan_ID Gender Married Dependents Education Self_Employed  \\\n",
       "155  LP001536   Male     Yes         3+  Graduate            No   \n",
       "\n",
       "     ApplicantIncome  CoapplicantIncome  LoanAmount  Loan_Amount_Term  \\\n",
       "155            39999                0.0       600.0             180.0   \n",
       "\n",
       "     Credit_History Property_Area Loan_Status  TotalIncome       EMI  \\\n",
       "155             0.0     Semiurban           Y      39999.0  3.333333   \n",
       "\n",
       "          Balance  \n",
       "155  36665.666667  "
      ]
     },
     "execution_count": 26,
     "metadata": {},
     "output_type": "execute_result"
    }
   ],
   "source": [
    "# loan amount in the dataset is calcuated in thosands.\n",
    "loan_clean_df['Balance'] = (loan_clean_df['TotalIncome']) - (loan_clean_df['EMI'] * 1000) \n",
    "\n",
    "loan_clean_df.sample()"
   ]
  },
  {
   "cell_type": "code",
   "execution_count": 27,
   "id": "d1caa77f",
   "metadata": {},
   "outputs": [
    {
     "data": {
      "text/plain": [
       "<AxesSubplot:xlabel='Loan_Status', ylabel='count'>"
      ]
     },
     "execution_count": 27,
     "metadata": {},
     "output_type": "execute_result"
    },
    {
     "data": {
      "image/png": "[encoded data removed]",
      "text/plain": [
       "<Figure size 432x288 with 1 Axes>"
      ]
     },
     "metadata": {
      "needs_background": "light"
     },
     "output_type": "display_data"
    }
   ],
   "source": [
    "sns.countplot(x=\"Loan_Status\", hue=\"Loan_Amount_Term\", data=loan_clean_df, palette='magma')"
   ]
  },
  {
   "cell_type": "markdown",
   "id": "0dc8cfb8",
   "metadata": {},
   "source": [
    "We can see that there is a greater chance of approval for a longer loan term (30 yrs) loan. Based on Income and loan term, we can assume that a person will be approved for a loan, if he has high income and paying it off in longer terms. Lenders will feel much confident since the borrower has a wider room to pay back the loan."
   ]
  },
  {
   "cell_type": "code",
   "execution_count": 28,
   "id": "e68667a1",
   "metadata": {},
   "outputs": [
    {
     "data": {
      "text/plain": [
       "Loan_Status\n",
       "N    AxesSubplot(0.125,0.125;0.775x0.755)\n",
       "Y    AxesSubplot(0.125,0.125;0.775x0.755)\n",
       "Name: TotalIncome, dtype: object"
      ]
     },
     "execution_count": 28,
     "metadata": {},
     "output_type": "execute_result"
    },
    {
     "data": {
      "image/png": "[encoded data removed]",
      "text/plain": [
       "<Figure size 432x288 with 1 Axes>"
      ]
     },
     "metadata": {
      "needs_background": "light"
     },
     "output_type": "display_data"
    }
   ],
   "source": [
    "loan_clean_df.groupby('Loan_Status')['TotalIncome'].hist(legend=True)"
   ]
  },
  {
   "cell_type": "markdown",
   "id": "6b8b41b7",
   "metadata": {},
   "source": [
    "Here, we can also see that odds of approval is much higher with income. "
   ]
  },
  {
   "cell_type": "code",
   "execution_count": 29,
   "id": "681d90d8",
   "metadata": {},
   "outputs": [
    {
     "data": {
      "text/plain": [
       "Loan_Status\n",
       "N    AxesSubplot(0.125,0.125;0.775x0.755)\n",
       "Y    AxesSubplot(0.125,0.125;0.775x0.755)\n",
       "Name: Balance, dtype: object"
      ]
     },
     "execution_count": 29,
     "metadata": {},
     "output_type": "execute_result"
    },
    {
     "data": {
      "image/png": "[encoded data removed]",
      "text/plain": [
       "<Figure size 432x288 with 1 Axes>"
      ]
     },
     "metadata": {
      "needs_background": "light"
     },
     "output_type": "display_data"
    }
   ],
   "source": [
    "loan_clean_df.groupby('Loan_Status')['Balance'].hist(legend=True)"
   ]
  },
  {
   "cell_type": "markdown",
   "id": "7e2834b6",
   "metadata": {},
   "source": [
    "Similary, more balance after `EMI` increases the chance of apprroval"
   ]
  },
  {
   "cell_type": "markdown",
   "id": "53906507",
   "metadata": {},
   "source": [
    "## Model Validation"
   ]
  },
  {
   "cell_type": "markdown",
   "id": "cb2bc71e",
   "metadata": {},
   "source": [
    "In order to perform logistic regression, we first need to convert the categorical columns to numerical and remove the columns that do not have much effect on the target (based on our observation) or we have created new columns after performing featured engineering in the previous step"
   ]
  },
  {
   "cell_type": "code",
   "execution_count": 36,
   "id": "074f4f35",
   "metadata": {},
   "outputs": [
    {
     "data": {
      "text/html": [
       "<div>\n",
       "<style scoped>\n",
       "    .dataframe tbody tr th:only-of-type {\n",
       "        vertical-align: middle;\n",
       "    }\n",
       "\n",
       "    .dataframe tbody tr th {\n",
       "        vertical-align: top;\n",
       "    }\n",
       "\n",
       "    .dataframe thead th {\n",
       "        text-align: right;\n",
       "    }\n",
       "</style>\n",
       "<table border=\"1\" class=\"dataframe\">\n",
       "  <thead>\n",
       "    <tr style=\"text-align: right;\">\n",
       "      <th></th>\n",
       "      <th>Gender</th>\n",
       "      <th>Married</th>\n",
       "      <th>Education</th>\n",
       "      <th>Self_Employed</th>\n",
       "      <th>LoanAmount</th>\n",
       "      <th>Loan_Amount_Term</th>\n",
       "      <th>Credit_History</th>\n",
       "      <th>Loan_Status</th>\n",
       "      <th>TotalIncome</th>\n",
       "    </tr>\n",
       "  </thead>\n",
       "  <tbody>\n",
       "    <tr>\n",
       "      <th>17</th>\n",
       "      <td>0</td>\n",
       "      <td>0</td>\n",
       "      <td>0</td>\n",
       "      <td>0</td>\n",
       "      <td>76.0</td>\n",
       "      <td>360.0</td>\n",
       "      <td>0.0</td>\n",
       "      <td>0</td>\n",
       "      <td>3510.0</td>\n",
       "    </tr>\n",
       "  </tbody>\n",
       "</table>\n",
       "</div>"
      ],
      "text/plain": [
       "    Gender  Married  Education  Self_Employed  LoanAmount  Loan_Amount_Term  \\\n",
       "17       0        0          0              0        76.0             360.0   \n",
       "\n",
       "    Credit_History  Loan_Status  TotalIncome  \n",
       "17             0.0            0       3510.0  "
      ]
     },
     "execution_count": 36,
     "metadata": {},
     "output_type": "execute_result"
    }
   ],
   "source": [
    "from sklearn.preprocessing import LabelEncoder\n",
    "\n",
    "dat = loan_clean_df.drop(columns=['Loan_ID', \n",
    "                                  'Dependents', \n",
    "                                  'ApplicantIncome', \n",
    "                                  'CoapplicantIncome', \n",
    "                                  'Property_Area', \n",
    "                                  'EMI', \n",
    "                                  'Balance'])\n",
    "\n",
    "encoder = LabelEncoder()\n",
    "\n",
    "dat['Loan_Status'] = encoder.fit_transform(dat['Loan_Status'])\n",
    "dat['Gender'] = encoder.fit_transform(dat['Gender'])\n",
    "dat['Married'] = encoder.fit_transform(dat['Married'])\n",
    "dat['Education'] = encoder.fit_transform(dat['Education'])\n",
    "#dat['Dependents'] = encoder.fit_transform(dat['Dependents'])\n",
    "dat['Self_Employed'] = encoder.fit_transform(dat['Self_Employed'])\n",
    "\n",
    "dat.sample()\n"
   ]
  },
  {
   "cell_type": "markdown",
   "id": "a4cf341c",
   "metadata": {},
   "source": [
    "Next, we split the data into train / test sets and perform logistic regression"
   ]
  },
  {
   "cell_type": "code",
   "execution_count": 37,
   "id": "07546361",
   "metadata": {},
   "outputs": [],
   "source": [
    "from sklearn.model_selection import train_test_split\n",
    "from sklearn.linear_model import LogisticRegression\n",
    "\n",
    "Y = dat['Loan_Status']\n",
    "X = dat.drop('Loan_Status', axis=1)\n",
    "\n",
    "X_train, X_test, Y_train, Y_test = train_test_split(X, Y, test_size=0.30)\n",
    "\n",
    "logistic_model = LogisticRegression()\n",
    "logistic_model.fit(X_train, Y_train)\n",
    "\n",
    "Y_pred = logistic_model.predict(X_test)\n"
   ]
  },
  {
   "cell_type": "markdown",
   "id": "8af6b717",
   "metadata": {},
   "source": [
    "Finally, we calcuate the f1 score of the model"
   ]
  },
  {
   "cell_type": "code",
   "execution_count": 38,
   "id": "ef54ec6b",
   "metadata": {},
   "outputs": [
    {
     "data": {
      "text/plain": [
       "0.8850174216027875"
      ]
     },
     "execution_count": 38,
     "metadata": {},
     "output_type": "execute_result"
    }
   ],
   "source": [
    "from sklearn.metrics import f1_score\n",
    "\n",
    "f1_score(Y_test, Y_pred)"
   ]
  },
  {
   "cell_type": "markdown",
   "id": "211acce1",
   "metadata": {},
   "source": [
    "The model is almost 90% accurate"
   ]
  },
  {
   "cell_type": "markdown",
   "id": "2be2754a",
   "metadata": {},
   "source": [
    "## Conclusion"
   ]
  },
  {
   "cell_type": "markdown",
   "id": "aa669784",
   "metadata": {},
   "source": [
    "We can conclude that there is a relation between loan approval odds vs borrower's income, credit history, loan term, education, marital and employment status. Based on the factors, we can predict if a borrower will be approved for a loan."
   ]
  },
  {
   "cell_type": "code",
   "execution_count": null,
   "id": "9a599c7c",
   "metadata": {},
   "outputs": [],
   "source": []
  },
  {
   "cell_type": "code",
   "execution_count": null,
   "id": "93f80318",
   "metadata": {},
   "outputs": [],
   "source": []
  }
 ],
 "metadata": {
  "kernelspec": {
   "display_name": "Python 3",
   "language": "python",
   "name": "python3"
  },
  "language_info": {
   "codemirror_mode": {
    "name": "ipython",
    "version": 3
   },
   "file_extension": ".py",
   "mimetype": "text/x-python",
   "name": "python",
   "nbconvert_exporter": "python",
   "pygments_lexer": "ipython3",
   "version": "3.9.4"
  }
 },
 "nbformat": 4,
 "nbformat_minor": 5
}
